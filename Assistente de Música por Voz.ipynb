{
 "cells": [
  {
   "cell_type": "code",
   "execution_count": 1,
   "id": "77299e53",
   "metadata": {},
   "outputs": [
    {
     "name": "stdout",
     "output_type": "stream",
     "text": [
      "Requirement already satisfied: SpeechRecognition in c:\\users\\ppeli\\anaconda3.11\\lib\\site-packages (3.10.0)\n",
      "Requirement already satisfied: pyttsx3 in c:\\users\\ppeli\\anaconda3.11\\lib\\site-packages (2.90)\n",
      "Requirement already satisfied: pywhatkit in c:\\users\\ppeli\\anaconda3.11\\lib\\site-packages (5.4)\n",
      "Requirement already satisfied: psutil in c:\\users\\ppeli\\appdata\\roaming\\python\\python310\\site-packages (5.9.4)\n",
      "Requirement already satisfied: requests>=2.26.0 in c:\\users\\ppeli\\anaconda3.11\\lib\\site-packages (from SpeechRecognition) (2.28.1)\n",
      "Requirement already satisfied: pypiwin32 in c:\\users\\ppeli\\anaconda3.11\\lib\\site-packages (from pyttsx3) (223)\n",
      "Requirement already satisfied: pywin32 in c:\\users\\ppeli\\appdata\\roaming\\python\\python310\\site-packages (from pyttsx3) (305)\n",
      "Requirement already satisfied: comtypes in c:\\users\\ppeli\\anaconda3.11\\lib\\site-packages (from pyttsx3) (1.2.1)\n",
      "Requirement already satisfied: Pillow in c:\\users\\ppeli\\anaconda3.11\\lib\\site-packages (from pywhatkit) (9.4.0)\n",
      "Requirement already satisfied: wikipedia in c:\\users\\ppeli\\anaconda3.11\\lib\\site-packages (from pywhatkit) (1.4.0)\n",
      "Requirement already satisfied: pyautogui in c:\\users\\ppeli\\anaconda3.11\\lib\\site-packages (from pywhatkit) (0.9.54)\n",
      "Requirement already satisfied: Flask in c:\\users\\ppeli\\anaconda3.11\\lib\\site-packages (from pywhatkit) (2.2.2)\n",
      "Requirement already satisfied: certifi>=2017.4.17 in c:\\users\\ppeli\\anaconda3.11\\lib\\site-packages (from requests>=2.26.0->SpeechRecognition) (2023.7.22)\n",
      "Requirement already satisfied: charset-normalizer<3,>=2 in c:\\users\\ppeli\\anaconda3.11\\lib\\site-packages (from requests>=2.26.0->SpeechRecognition) (2.0.4)\n",
      "Requirement already satisfied: idna<4,>=2.5 in c:\\users\\ppeli\\anaconda3.11\\lib\\site-packages (from requests>=2.26.0->SpeechRecognition) (3.4)\n",
      "Requirement already satisfied: urllib3<1.27,>=1.21.1 in c:\\users\\ppeli\\anaconda3.11\\lib\\site-packages (from requests>=2.26.0->SpeechRecognition) (1.26.16)\n",
      "Requirement already satisfied: Werkzeug>=2.2.2 in c:\\users\\ppeli\\anaconda3.11\\lib\\site-packages (from Flask->pywhatkit) (2.2.2)\n",
      "Requirement already satisfied: click>=8.0 in c:\\users\\ppeli\\anaconda3.11\\lib\\site-packages (from Flask->pywhatkit) (8.0.4)\n",
      "Requirement already satisfied: Jinja2>=3.0 in c:\\users\\ppeli\\anaconda3.11\\lib\\site-packages (from Flask->pywhatkit) (3.1.2)\n",
      "Requirement already satisfied: itsdangerous>=2.0 in c:\\users\\ppeli\\anaconda3.11\\lib\\site-packages (from Flask->pywhatkit) (2.0.1)\n",
      "Requirement already satisfied: pyscreeze>=0.1.21 in c:\\users\\ppeli\\anaconda3.11\\lib\\site-packages (from pyautogui->pywhatkit) (0.1.30)\n",
      "Requirement already satisfied: pytweening>=1.0.4 in c:\\users\\ppeli\\anaconda3.11\\lib\\site-packages (from pyautogui->pywhatkit) (1.0.7)\n",
      "Requirement already satisfied: mouseinfo in c:\\users\\ppeli\\anaconda3.11\\lib\\site-packages (from pyautogui->pywhatkit) (0.1.3)\n",
      "Requirement already satisfied: pymsgbox in c:\\users\\ppeli\\anaconda3.11\\lib\\site-packages (from pyautogui->pywhatkit) (1.0.9)\n",
      "Requirement already satisfied: pygetwindow>=0.0.5 in c:\\users\\ppeli\\anaconda3.11\\lib\\site-packages (from pyautogui->pywhatkit) (0.0.9)\n",
      "Requirement already satisfied: beautifulsoup4 in c:\\users\\ppeli\\anaconda3.11\\lib\\site-packages (from wikipedia->pywhatkit) (4.11.1)\n",
      "Requirement already satisfied: colorama in c:\\users\\ppeli\\appdata\\roaming\\python\\python310\\site-packages (from click>=8.0->Flask->pywhatkit) (0.4.6)\n",
      "Requirement already satisfied: MarkupSafe>=2.0 in c:\\users\\ppeli\\anaconda3.11\\lib\\site-packages (from Jinja2>=3.0->Flask->pywhatkit) (2.1.1)\n",
      "Requirement already satisfied: pyrect in c:\\users\\ppeli\\anaconda3.11\\lib\\site-packages (from pygetwindow>=0.0.5->pyautogui->pywhatkit) (0.2.0)\n",
      "Requirement already satisfied: soupsieve>1.2 in c:\\users\\ppeli\\anaconda3.11\\lib\\site-packages (from beautifulsoup4->wikipedia->pywhatkit) (2.3.2.post1)\n",
      "Requirement already satisfied: pyperclip in c:\\users\\ppeli\\anaconda3.11\\lib\\site-packages (from mouseinfo->pyautogui->pywhatkit) (1.8.2)\n",
      "Note: you may need to restart the kernel to use updated packages.\n"
     ]
    },
    {
     "name": "stderr",
     "output_type": "stream",
     "text": [
      "WARNING: Ignoring invalid distribution -rotobuf (c:\\users\\ppeli\\anaconda3.11\\lib\\site-packages)\n",
      "WARNING: Ignoring invalid distribution -atplotlib (c:\\users\\ppeli\\anaconda3.11\\lib\\site-packages)\n",
      "WARNING: Ignoring invalid distribution -rotobuf (c:\\users\\ppeli\\anaconda3.11\\lib\\site-packages)\n",
      "WARNING: Ignoring invalid distribution -atplotlib (c:\\users\\ppeli\\anaconda3.11\\lib\\site-packages)\n",
      "WARNING: Ignoring invalid distribution -rotobuf (c:\\users\\ppeli\\anaconda3.11\\lib\\site-packages)\n",
      "WARNING: Ignoring invalid distribution -atplotlib (c:\\users\\ppeli\\anaconda3.11\\lib\\site-packages)\n",
      "WARNING: Ignoring invalid distribution -rotobuf (c:\\users\\ppeli\\anaconda3.11\\lib\\site-packages)\n",
      "WARNING: Ignoring invalid distribution -atplotlib (c:\\users\\ppeli\\anaconda3.11\\lib\\site-packages)\n",
      "WARNING: Ignoring invalid distribution -rotobuf (c:\\users\\ppeli\\anaconda3.11\\lib\\site-packages)\n",
      "WARNING: Ignoring invalid distribution -atplotlib (c:\\users\\ppeli\\anaconda3.11\\lib\\site-packages)\n",
      "WARNING: Ignoring invalid distribution -rotobuf (c:\\users\\ppeli\\anaconda3.11\\lib\\site-packages)\n",
      "WARNING: Ignoring invalid distribution -atplotlib (c:\\users\\ppeli\\anaconda3.11\\lib\\site-packages)\n"
     ]
    }
   ],
   "source": [
    "pip install SpeechRecognition pyttsx3 pywhatkit psutil\n"
   ]
  },
  {
   "cell_type": "code",
   "execution_count": null,
   "id": "b0f1ffe0",
   "metadata": {},
   "outputs": [
    {
     "name": "stdout",
     "output_type": "stream",
     "text": [
      "Diga o nome da música:\n",
      "Você disse: beautiful day\n",
      "Buscando por beautiful day no YouTube...\n",
      "Diga o nome da música:\n",
      "Você disse: um Forgive\n",
      "Buscando por um Forgive no YouTube...\n"
     ]
    }
   ],
   "source": [
    "import speech_recognition as sr\n",
    "import pyttsx3\n",
    "import pywhatkit\n",
    "import time\n",
    "import psutil\n",
    "\n",
    "def recognize_speech():\n",
    "    recognizer = sr.Recognizer()\n",
    "    microphone = sr.Microphone()\n",
    "\n",
    "    with microphone as source:\n",
    "        print(\"Diga o nome da música:\")\n",
    "        recognizer.adjust_for_ambient_noise(source)\n",
    "        audio = recognizer.listen(source)\n",
    "\n",
    "    try:\n",
    "        query = recognizer.recognize_google(audio, language='pt-BR')\n",
    "        print(f\"Você disse: {query}\")\n",
    "        return query\n",
    "    except sr.UnknownValueError:\n",
    "        print(\"Não foi possível entender a fala. Por favor, tente novamente.\")\n",
    "        return None\n",
    "\n",
    "def search_and_play_music(query):\n",
    "    print(f\"Buscando por {query} no YouTube...\")\n",
    "    pywhatkit.playonyt(query)\n",
    "\n",
    "def is_music_playing():\n",
    "    # Retorna True se o navegador estiver aberto, o que pode indicar que a música está tocando\n",
    "    for process in psutil.process_iter(['pid', 'name']):\n",
    "        if 'chrome.exe' in process.info['name'].lower():\n",
    "            return True\n",
    "    return False\n",
    "\n",
    "def speak(text):\n",
    "    engine = pyttsx3.init()\n",
    "    engine.say(text)\n",
    "    engine.runAndWait()\n",
    "\n",
    "if __name__ == \"__main__\":\n",
    "    speak(\"Olá! Eu sou seu assistente de música. Como posso ajudar?\")\n",
    "    \n",
    "    while True:\n",
    "        speak(\"Diga o nome da música que você quer ouvir.\")\n",
    "        user_input = recognize_speech()\n",
    "\n",
    "        if user_input:\n",
    "            speak(f\"Buscando por {user_input} no YouTube.\")\n",
    "            \n",
    "            # Executa a busca e reprodução\n",
    "            search_and_play_music(user_input)\n",
    "\n",
    "            # Aguarda até que a música termine ou até 60 segundos (ajustável conforme necessário)\n",
    "            timeout = 60\n",
    "            start_time = time.time()\n",
    "\n",
    "            while time.time() - start_time < timeout:\n",
    "                if not is_music_playing():\n",
    "                    break\n",
    "                time.sleep(1)\n",
    "\n",
    "            # Mensagem informando que a música terminou\n",
    "            speak(\"A música terminou. Como posso ajudar agora?\")\n"
   ]
  },
  {
   "cell_type": "code",
   "execution_count": null,
   "id": "6b0d38d7",
   "metadata": {},
   "outputs": [],
   "source": []
  }
 ],
 "metadata": {
  "kernelspec": {
   "display_name": "Python 3 (ipykernel)",
   "language": "python",
   "name": "python3"
  },
  "language_info": {
   "codemirror_mode": {
    "name": "ipython",
    "version": 3
   },
   "file_extension": ".py",
   "mimetype": "text/x-python",
   "name": "python",
   "nbconvert_exporter": "python",
   "pygments_lexer": "ipython3",
   "version": "3.10.9"
  }
 },
 "nbformat": 4,
 "nbformat_minor": 5
}
